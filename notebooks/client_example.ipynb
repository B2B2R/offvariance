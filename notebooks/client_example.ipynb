{
 "cells": [
  {
   "cell_type": "code",
   "execution_count": 7,
   "metadata": {
    "collapsed": true
   },
   "outputs": [],
   "source": [
    "from modules.client import OffVarianceClient\n",
    "from dotenv import dotenv_values\n",
    "\n",
    "config = dotenv_values('../.env')\n",
    "\n",
    "client = OffVarianceClient(config.get('OFF_VARIANCE_KEY'), data_path='../data')\n",
    "games_df = client.get_finished_games()"
   ]
  },
  {
   "cell_type": "code",
   "execution_count": 6,
   "outputs": [
    {
     "data": {
      "text/plain": "           id           date_match  date_match_unix  time_first  time_match  \\\n0       85804  13.08.2016 14:30:00       1471087800        47.0        95.0   \n1       85801  13.08.2016 17:00:00       1471096800        47.0        93.0   \n2       85802  13.08.2016 17:00:00       1471096800        49.0        93.0   \n3       85805  13.08.2016 17:00:00       1471096800        47.0        93.0   \n4       85806  13.08.2016 17:00:00       1471096800        46.0        95.0   \n...       ...                  ...              ...         ...         ...   \n69816  134703  12.01.2022 21:45:00       1642016700        46.0        93.0   \n69817  137668  12.01.2022 21:45:00       1642016700        49.0        97.0   \n69818  142317  13.01.2022 15:20:00       1642080000        46.0        97.0   \n69819  142319  13.01.2022 15:20:00       1642080000        46.0        93.0   \n69820  142314  13.01.2022 18:00:00       1642089600        48.0        93.0   \n\n       team_1_id     team_1_name  team_1_goal  team_2_id team_2_name  ...  \\\n0          14861            Hull          2.0       6719   Leicester  ...   \n1           6727     Southampton          1.0       6724     Watford  ...   \n2          14855   Middlesbrough          1.0      14867       Stoke  ...   \n3           6718         Everton          1.0       6713   Tottenham  ...   \n4           6721  Crystal Palace          0.0      14865   West Brom  ...   \n...          ...             ...          ...        ...         ...  ...   \n69816       6723        West Ham          2.0      14857     Norwich  ...   \n69817      36883           Crewe          2.0      26957    Charlton  ...   \n69818      76326      Al-Gharafa          2.0      76322   Al-Duhail  ...   \n69819      76329      Al Sailiya          0.0      76323    Al Arabi  ...   \n69820      76328        Al Wakra          4.0      76331     Al Khor  ...   \n\n       team2_away_xgpower_com_xgsumxganoindex  \\\n0                                        0.00   \n1                                        0.00   \n2                                        0.00   \n3                                        0.00   \n4                                        0.00   \n...                                       ...   \n69816                                    2.15   \n69817                                    2.84   \n69818                                    3.63   \n69819                                    3.61   \n69820                                    3.41   \n\n       team2_away_xgpower_com_xgxganoindex team2_away_xgpower_cxm_xg90  \\\n0                                     0.00                        0.00   \n1                                     0.00                        0.00   \n2                                     0.00                        0.00   \n3                                     0.00                        0.00   \n4                                     0.00                        0.00   \n...                                    ...                         ...   \n69816                                 0.17                        0.62   \n69817                                 0.19                        0.00   \n69818                                 6.89                        2.07   \n69819                                 0.40                        0.65   \n69820                                 1.13                        0.00   \n\n       team2_away_xgpower_cxm_xga90 team2_away_xgpower_cxm_xgsubxga  \\\n0                              0.00                            0.00   \n1                              0.00                            0.00   \n2                              0.00                            0.00   \n3                              0.00                            0.00   \n4                              0.00                            0.00   \n...                             ...                             ...   \n69816                          3.80                            0.16   \n69817                          0.00                            0.00   \n69818                          0.49                            4.22   \n69819                          0.52                            1.25   \n69820                          0.00                            0.00   \n\n       team2_away_xgpower_cxm_minutes team2_away_xgpower_cxm_xg90noindex  \\\n0                                 0.0                               0.00   \n1                                 0.0                               0.00   \n2                                 0.0                               0.00   \n3                                 0.0                               0.00   \n4                                 0.0                               0.00   \n...                               ...                                ...   \n69816                           199.0                               0.72   \n69817                            27.0                               0.00   \n69818                            25.0                               3.21   \n69819                            48.0                               1.01   \n69820                           173.0                               0.00   \n\n       team2_away_xgpower_cxm_xga90noindex  \\\n0                                     0.00   \n1                                     0.00   \n2                                     0.00   \n3                                     0.00   \n4                                     0.00   \n...                                    ...   \n69816                                 4.26   \n69817                                 0.00   \n69818                                 0.81   \n69819                                 0.86   \n69820                                 0.00   \n\n      team2_away_xgpower_cxm_xgsumxganoindex  \\\n0                                       0.00   \n1                                       0.00   \n2                                       0.00   \n3                                       0.00   \n4                                       0.00   \n...                                      ...   \n69816                                   4.98   \n69817                                   0.00   \n69818                                   4.02   \n69819                                   1.87   \n69820                                   0.00   \n\n       team2_away_xgpower_cxm_xgxganoindex  \n0                                     0.00  \n1                                     0.00  \n2                                     0.00  \n3                                     0.00  \n4                                     0.00  \n...                                    ...  \n69816                                 0.17  \n69817                                 0.00  \n69818                                 3.96  \n69819                                 1.17  \n69820                                 0.00  \n\n[69821 rows x 1055 columns]",
      "text/html": "<div>\n<style scoped>\n    .dataframe tbody tr th:only-of-type {\n        vertical-align: middle;\n    }\n\n    .dataframe tbody tr th {\n        vertical-align: top;\n    }\n\n    .dataframe thead th {\n        text-align: right;\n    }\n</style>\n<table border=\"1\" class=\"dataframe\">\n  <thead>\n    <tr style=\"text-align: right;\">\n      <th></th>\n      <th>id</th>\n      <th>date_match</th>\n      <th>date_match_unix</th>\n      <th>time_first</th>\n      <th>time_match</th>\n      <th>team_1_id</th>\n      <th>team_1_name</th>\n      <th>team_1_goal</th>\n      <th>team_2_id</th>\n      <th>team_2_name</th>\n      <th>...</th>\n      <th>team2_away_xgpower_com_xgsumxganoindex</th>\n      <th>team2_away_xgpower_com_xgxganoindex</th>\n      <th>team2_away_xgpower_cxm_xg90</th>\n      <th>team2_away_xgpower_cxm_xga90</th>\n      <th>team2_away_xgpower_cxm_xgsubxga</th>\n      <th>team2_away_xgpower_cxm_minutes</th>\n      <th>team2_away_xgpower_cxm_xg90noindex</th>\n      <th>team2_away_xgpower_cxm_xga90noindex</th>\n      <th>team2_away_xgpower_cxm_xgsumxganoindex</th>\n      <th>team2_away_xgpower_cxm_xgxganoindex</th>\n    </tr>\n  </thead>\n  <tbody>\n    <tr>\n      <th>0</th>\n      <td>85804</td>\n      <td>13.08.2016 14:30:00</td>\n      <td>1471087800</td>\n      <td>47.0</td>\n      <td>95.0</td>\n      <td>14861</td>\n      <td>Hull</td>\n      <td>2.0</td>\n      <td>6719</td>\n      <td>Leicester</td>\n      <td>...</td>\n      <td>0.00</td>\n      <td>0.00</td>\n      <td>0.00</td>\n      <td>0.00</td>\n      <td>0.00</td>\n      <td>0.0</td>\n      <td>0.00</td>\n      <td>0.00</td>\n      <td>0.00</td>\n      <td>0.00</td>\n    </tr>\n    <tr>\n      <th>1</th>\n      <td>85801</td>\n      <td>13.08.2016 17:00:00</td>\n      <td>1471096800</td>\n      <td>47.0</td>\n      <td>93.0</td>\n      <td>6727</td>\n      <td>Southampton</td>\n      <td>1.0</td>\n      <td>6724</td>\n      <td>Watford</td>\n      <td>...</td>\n      <td>0.00</td>\n      <td>0.00</td>\n      <td>0.00</td>\n      <td>0.00</td>\n      <td>0.00</td>\n      <td>0.0</td>\n      <td>0.00</td>\n      <td>0.00</td>\n      <td>0.00</td>\n      <td>0.00</td>\n    </tr>\n    <tr>\n      <th>2</th>\n      <td>85802</td>\n      <td>13.08.2016 17:00:00</td>\n      <td>1471096800</td>\n      <td>49.0</td>\n      <td>93.0</td>\n      <td>14855</td>\n      <td>Middlesbrough</td>\n      <td>1.0</td>\n      <td>14867</td>\n      <td>Stoke</td>\n      <td>...</td>\n      <td>0.00</td>\n      <td>0.00</td>\n      <td>0.00</td>\n      <td>0.00</td>\n      <td>0.00</td>\n      <td>0.0</td>\n      <td>0.00</td>\n      <td>0.00</td>\n      <td>0.00</td>\n      <td>0.00</td>\n    </tr>\n    <tr>\n      <th>3</th>\n      <td>85805</td>\n      <td>13.08.2016 17:00:00</td>\n      <td>1471096800</td>\n      <td>47.0</td>\n      <td>93.0</td>\n      <td>6718</td>\n      <td>Everton</td>\n      <td>1.0</td>\n      <td>6713</td>\n      <td>Tottenham</td>\n      <td>...</td>\n      <td>0.00</td>\n      <td>0.00</td>\n      <td>0.00</td>\n      <td>0.00</td>\n      <td>0.00</td>\n      <td>0.0</td>\n      <td>0.00</td>\n      <td>0.00</td>\n      <td>0.00</td>\n      <td>0.00</td>\n    </tr>\n    <tr>\n      <th>4</th>\n      <td>85806</td>\n      <td>13.08.2016 17:00:00</td>\n      <td>1471096800</td>\n      <td>46.0</td>\n      <td>95.0</td>\n      <td>6721</td>\n      <td>Crystal Palace</td>\n      <td>0.0</td>\n      <td>14865</td>\n      <td>West Brom</td>\n      <td>...</td>\n      <td>0.00</td>\n      <td>0.00</td>\n      <td>0.00</td>\n      <td>0.00</td>\n      <td>0.00</td>\n      <td>0.0</td>\n      <td>0.00</td>\n      <td>0.00</td>\n      <td>0.00</td>\n      <td>0.00</td>\n    </tr>\n    <tr>\n      <th>...</th>\n      <td>...</td>\n      <td>...</td>\n      <td>...</td>\n      <td>...</td>\n      <td>...</td>\n      <td>...</td>\n      <td>...</td>\n      <td>...</td>\n      <td>...</td>\n      <td>...</td>\n      <td>...</td>\n      <td>...</td>\n      <td>...</td>\n      <td>...</td>\n      <td>...</td>\n      <td>...</td>\n      <td>...</td>\n      <td>...</td>\n      <td>...</td>\n      <td>...</td>\n      <td>...</td>\n    </tr>\n    <tr>\n      <th>69816</th>\n      <td>134703</td>\n      <td>12.01.2022 21:45:00</td>\n      <td>1642016700</td>\n      <td>46.0</td>\n      <td>93.0</td>\n      <td>6723</td>\n      <td>West Ham</td>\n      <td>2.0</td>\n      <td>14857</td>\n      <td>Norwich</td>\n      <td>...</td>\n      <td>2.15</td>\n      <td>0.17</td>\n      <td>0.62</td>\n      <td>3.80</td>\n      <td>0.16</td>\n      <td>199.0</td>\n      <td>0.72</td>\n      <td>4.26</td>\n      <td>4.98</td>\n      <td>0.17</td>\n    </tr>\n    <tr>\n      <th>69817</th>\n      <td>137668</td>\n      <td>12.01.2022 21:45:00</td>\n      <td>1642016700</td>\n      <td>49.0</td>\n      <td>97.0</td>\n      <td>36883</td>\n      <td>Crewe</td>\n      <td>2.0</td>\n      <td>26957</td>\n      <td>Charlton</td>\n      <td>...</td>\n      <td>2.84</td>\n      <td>0.19</td>\n      <td>0.00</td>\n      <td>0.00</td>\n      <td>0.00</td>\n      <td>27.0</td>\n      <td>0.00</td>\n      <td>0.00</td>\n      <td>0.00</td>\n      <td>0.00</td>\n    </tr>\n    <tr>\n      <th>69818</th>\n      <td>142317</td>\n      <td>13.01.2022 15:20:00</td>\n      <td>1642080000</td>\n      <td>46.0</td>\n      <td>97.0</td>\n      <td>76326</td>\n      <td>Al-Gharafa</td>\n      <td>2.0</td>\n      <td>76322</td>\n      <td>Al-Duhail</td>\n      <td>...</td>\n      <td>3.63</td>\n      <td>6.89</td>\n      <td>2.07</td>\n      <td>0.49</td>\n      <td>4.22</td>\n      <td>25.0</td>\n      <td>3.21</td>\n      <td>0.81</td>\n      <td>4.02</td>\n      <td>3.96</td>\n    </tr>\n    <tr>\n      <th>69819</th>\n      <td>142319</td>\n      <td>13.01.2022 15:20:00</td>\n      <td>1642080000</td>\n      <td>46.0</td>\n      <td>93.0</td>\n      <td>76329</td>\n      <td>Al Sailiya</td>\n      <td>0.0</td>\n      <td>76323</td>\n      <td>Al Arabi</td>\n      <td>...</td>\n      <td>3.61</td>\n      <td>0.40</td>\n      <td>0.65</td>\n      <td>0.52</td>\n      <td>1.25</td>\n      <td>48.0</td>\n      <td>1.01</td>\n      <td>0.86</td>\n      <td>1.87</td>\n      <td>1.17</td>\n    </tr>\n    <tr>\n      <th>69820</th>\n      <td>142314</td>\n      <td>13.01.2022 18:00:00</td>\n      <td>1642089600</td>\n      <td>48.0</td>\n      <td>93.0</td>\n      <td>76328</td>\n      <td>Al Wakra</td>\n      <td>4.0</td>\n      <td>76331</td>\n      <td>Al Khor</td>\n      <td>...</td>\n      <td>3.41</td>\n      <td>1.13</td>\n      <td>0.00</td>\n      <td>0.00</td>\n      <td>0.00</td>\n      <td>173.0</td>\n      <td>0.00</td>\n      <td>0.00</td>\n      <td>0.00</td>\n      <td>0.00</td>\n    </tr>\n  </tbody>\n</table>\n<p>69821 rows × 1055 columns</p>\n</div>"
     },
     "execution_count": 6,
     "metadata": {},
     "output_type": "execute_result"
    }
   ],
   "source": [
    "games_df"
   ],
   "metadata": {
    "collapsed": false,
    "pycharm": {
     "name": "#%%\n"
    }
   }
  },
  {
   "cell_type": "markdown",
   "source": [],
   "metadata": {
    "collapsed": false,
    "pycharm": {
     "name": "#%% md\n"
    }
   }
  },
  {
   "cell_type": "code",
   "execution_count": 14,
   "outputs": [
    {
     "data": {
      "text/plain": "Index(['id', 'date_match', 'date_match_unix', 'time_first', 'time_match',\n       'team_1_id', 'team_1_name', 'team_1_goal', 'team_2_id', 'team_2_name',\n       ...\n       'team2_away_xgpower_com_xgsumxganoindex',\n       'team2_away_xgpower_com_xgxganoindex', 'team2_away_xgpower_cxm_xg90',\n       'team2_away_xgpower_cxm_xga90', 'team2_away_xgpower_cxm_xgsubxga',\n       'team2_away_xgpower_cxm_minutes', 'team2_away_xgpower_cxm_xg90noindex',\n       'team2_away_xgpower_cxm_xga90noindex',\n       'team2_away_xgpower_cxm_xgsumxganoindex',\n       'team2_away_xgpower_cxm_xgxganoindex'],\n      dtype='object', length=1055)"
     },
     "execution_count": 14,
     "metadata": {},
     "output_type": "execute_result"
    }
   ],
   "source": [
    "games_df.columns"
   ],
   "metadata": {
    "collapsed": false,
    "pycharm": {
     "name": "#%%\n"
    }
   }
  }
 ],
 "metadata": {
  "kernelspec": {
   "display_name": "Python 3",
   "language": "python",
   "name": "python3"
  },
  "language_info": {
   "codemirror_mode": {
    "name": "ipython",
    "version": 2
   },
   "file_extension": ".py",
   "mimetype": "text/x-python",
   "name": "python",
   "nbconvert_exporter": "python",
   "pygments_lexer": "ipython2",
   "version": "2.7.6"
  }
 },
 "nbformat": 4,
 "nbformat_minor": 0
}