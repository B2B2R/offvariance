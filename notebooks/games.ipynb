{
 "cells": [
  {
   "cell_type": "code",
   "execution_count": 2,
   "metadata": {
    "collapsed": true
   },
   "outputs": [],
   "source": [
    "from modules.client import OffVarianceClient\n",
    "import modules.strategy as strategy\n",
    "import modules.utils as utils\n",
    "from dotenv import dotenv_values\n",
    "\n",
    "config = dotenv_values('../.env')\n",
    "\n",
    "client = OffVarianceClient(config.get('OFF_VARIANCE_KEY'), data_path='../data')\n",
    "games_df = client.get_unfinished_games()\n",
    "games_df = utils.filter_correct_unfinished_games(games_df)\n",
    "\n",
    "utils.populate_unfinished_metrics(games_df)"
   ]
  },
  {
   "cell_type": "code",
   "execution_count": 3,
   "outputs": [
    {
     "data": {
      "text/plain": "              date_match country_name             team_1_name     team_2_name  \\\n26   15.01.2022 08:05:00    Australia  Central Coast Mariners  Newcastle Jets   \n156  16.01.2022 14:30:00      Germany              Sandhausen      Regensburg   \n207  16.01.2022 17:15:00        Italy               Pordenone           Lecce   \n254  18.01.2022 17:30:00        Qatar                 Al Khor       Al Rayyan   \n302  19.01.2022 22:00:00      England                 Reading           Luton   \n487  23.01.2022 02:00:00       France                    Metz            Nice   \n\n    bet_type  odds_open  \n26      U2.5       2.11  \n156        2       2.49  \n207        2       1.96  \n254        2       1.81  \n302        2       2.48  \n487        2       1.90  ",
      "text/html": "<div>\n<style scoped>\n    .dataframe tbody tr th:only-of-type {\n        vertical-align: middle;\n    }\n\n    .dataframe tbody tr th {\n        vertical-align: top;\n    }\n\n    .dataframe thead th {\n        text-align: right;\n    }\n</style>\n<table border=\"1\" class=\"dataframe\">\n  <thead>\n    <tr style=\"text-align: right;\">\n      <th></th>\n      <th>date_match</th>\n      <th>country_name</th>\n      <th>team_1_name</th>\n      <th>team_2_name</th>\n      <th>bet_type</th>\n      <th>odds_open</th>\n    </tr>\n  </thead>\n  <tbody>\n    <tr>\n      <th>26</th>\n      <td>15.01.2022 08:05:00</td>\n      <td>Australia</td>\n      <td>Central Coast Mariners</td>\n      <td>Newcastle Jets</td>\n      <td>U2.5</td>\n      <td>2.11</td>\n    </tr>\n    <tr>\n      <th>156</th>\n      <td>16.01.2022 14:30:00</td>\n      <td>Germany</td>\n      <td>Sandhausen</td>\n      <td>Regensburg</td>\n      <td>2</td>\n      <td>2.49</td>\n    </tr>\n    <tr>\n      <th>207</th>\n      <td>16.01.2022 17:15:00</td>\n      <td>Italy</td>\n      <td>Pordenone</td>\n      <td>Lecce</td>\n      <td>2</td>\n      <td>1.96</td>\n    </tr>\n    <tr>\n      <th>254</th>\n      <td>18.01.2022 17:30:00</td>\n      <td>Qatar</td>\n      <td>Al Khor</td>\n      <td>Al Rayyan</td>\n      <td>2</td>\n      <td>1.81</td>\n    </tr>\n    <tr>\n      <th>302</th>\n      <td>19.01.2022 22:00:00</td>\n      <td>England</td>\n      <td>Reading</td>\n      <td>Luton</td>\n      <td>2</td>\n      <td>2.48</td>\n    </tr>\n    <tr>\n      <th>487</th>\n      <td>23.01.2022 02:00:00</td>\n      <td>France</td>\n      <td>Metz</td>\n      <td>Nice</td>\n      <td>2</td>\n      <td>1.90</td>\n    </tr>\n  </tbody>\n</table>\n</div>"
     },
     "execution_count": 3,
     "metadata": {},
     "output_type": "execute_result"
    }
   ],
   "source": [
    "strategy.filter_games(games_df)"
   ],
   "metadata": {
    "collapsed": false,
    "pycharm": {
     "name": "#%%\n"
    }
   }
  }
 ],
 "metadata": {
  "kernelspec": {
   "display_name": "Python 3",
   "language": "python",
   "name": "python3"
  },
  "language_info": {
   "codemirror_mode": {
    "name": "ipython",
    "version": 2
   },
   "file_extension": ".py",
   "mimetype": "text/x-python",
   "name": "python",
   "nbconvert_exporter": "python",
   "pygments_lexer": "ipython2",
   "version": "2.7.6"
  }
 },
 "nbformat": 4,
 "nbformat_minor": 0
}