{
 "cells": [
  {
   "cell_type": "code",
   "execution_count": 5,
   "metadata": {
    "collapsed": true
   },
   "outputs": [],
   "source": [
    "from modules.client import OffVarianceClient\n",
    "import modules.strategy as strategy\n",
    "import modules.utils as utils\n",
    "from dotenv import dotenv_values\n",
    "\n",
    "config = dotenv_values('../.env')\n",
    "\n",
    "client = OffVarianceClient(config.get('OFF_VARIANCE_KEY'), data_path='../data')\n",
    "games_df = client.get_unfinished_games()\n",
    "games_df = utils.filter_correct_unfinished_games(games_df)\n",
    "\n",
    "utils.populate_unfinished_metrics(games_df)"
   ]
  },
  {
   "cell_type": "code",
   "execution_count": 6,
   "outputs": [
    {
     "data": {
      "text/plain": "          id           date_match  date_match_unix  team_1_id     team_1_name  \\\n0     133274  02.02.2022 22:45:00       1643834700      24075      Belenenses   \n4     136360  03.02.2022 10:45:00       1643877900      24707  Newcastle Jets   \n5     135099  03.02.2022 17:15:00       1643901300      23410       Atromitos   \n6     138998  03.02.2022 19:00:00       1643907600       9719        Avellino   \n7     133151  03.02.2022 20:00:00       1643911200     123969        Trofense   \n...      ...                  ...              ...        ...             ...   \n1094  135168  22.02.2022 21:45:00       1645559100      36875         Swindon   \n1095  135170  22.02.2022 21:45:00       1645559100      26951   Bradford City   \n1096  136799  22.02.2022 21:45:00       1645559100      26976        Rochdale   \n1097  136801  22.02.2022 21:45:00       1645559100      26980      Scunthorpe   \n1098  137349  22.02.2022 21:45:00       1645559100      64485   Leyton Orient   \n\n      team_2_id     team_2_name  country_id country_name  league_id  ...  \\\n0         24083       Sporting        779.0     Portugal        785  ...   \n4         24708   Brisbane Roar       990.0    Australia        992  ...   \n5         23421           Lamia       776.0       Greece        786  ...   \n6         41740     Juve Stabia       289.0        Italy       1677  ...   \n7         80180      FC Porto B       779.0     Portugal       4622  ...   \n...         ...             ...         ...          ...        ...  ...   \n1094      26949         Walsall       291.0      England       1470  ...   \n1095      92804       Harrogate       291.0      England       1470  ...   \n1096      36894       Port Vale       291.0      England       1470  ...   \n1097      36885     Northampton       291.0      England       1470  ...   \n1098      26954  Bristol Rovers       291.0      England       1470  ...   \n\n      udi_tb25  simple_expected_difference simple_expected_difference_03max  \\\n0     0.023708                       -1.20                            -1.20   \n4     0.017075                        0.19                             0.19   \n5    -0.087121                       -0.11                            -0.11   \n6    -0.050000                        0.16                             0.16   \n7    -0.028986                       -0.10                            -0.10   \n...        ...                         ...                              ...   \n1094 -0.019417                        0.27                             0.27   \n1095 -0.004950                        0.07                             0.07   \n1096  0.015385                        0.21                             0.21   \n1097 -0.016807                       -0.11                            -0.11   \n1098  0.040609                        0.43                             0.43   \n\n      simple_expected_difference_loc simple_expected_total_value  \\\n0                              -1.02                        4.67   \n4                               0.34                        2.23   \n5                               0.51                        4.19   \n6                               0.09                        4.36   \n7                               0.26                        4.83   \n...                              ...                         ...   \n1094                            0.50                        4.65   \n1095                            0.49                        4.88   \n1096                            0.47                        4.21   \n1097                            0.03                        4.61   \n1098                            0.62                        4.77   \n\n      simple_expected_total_value_loc  expected_difference  expected_total  \\\n0                                4.62              -1.2368          2.1328   \n4                                2.08               0.4584          1.0044   \n5                                4.62               0.0995          1.9715   \n6                                4.47               0.7827          2.0483   \n7                                4.86              -0.0572          2.5588   \n...                               ...                  ...             ...   \n1094                             4.26               0.4192          2.2940   \n1095                             4.77               0.4872          2.6448   \n1096                             4.77              -0.0691          1.8709   \n1097                             4.88              -0.5274          2.3286   \n1098                             4.94               1.0875          2.7429   \n\n      expected_difference_loc  expected_total_loc  \n0                     -1.6960              2.4576  \n4                      0.5685              0.8391  \n5                      0.1297              2.3341  \n6                      0.7036              1.9096  \n7                      0.2667              2.6035  \n...                       ...                 ...  \n1094                   0.2520              1.8640  \n1095                   0.6070              2.5280  \n1096                   0.1017              2.2833  \n1097                  -0.6828              2.6668  \n1098                   1.1175              2.8185  \n\n[324 rows x 1411 columns]",
      "text/html": "<div>\n<style scoped>\n    .dataframe tbody tr th:only-of-type {\n        vertical-align: middle;\n    }\n\n    .dataframe tbody tr th {\n        vertical-align: top;\n    }\n\n    .dataframe thead th {\n        text-align: right;\n    }\n</style>\n<table border=\"1\" class=\"dataframe\">\n  <thead>\n    <tr style=\"text-align: right;\">\n      <th></th>\n      <th>id</th>\n      <th>date_match</th>\n      <th>date_match_unix</th>\n      <th>team_1_id</th>\n      <th>team_1_name</th>\n      <th>team_2_id</th>\n      <th>team_2_name</th>\n      <th>country_id</th>\n      <th>country_name</th>\n      <th>league_id</th>\n      <th>...</th>\n      <th>udi_tb25</th>\n      <th>simple_expected_difference</th>\n      <th>simple_expected_difference_03max</th>\n      <th>simple_expected_difference_loc</th>\n      <th>simple_expected_total_value</th>\n      <th>simple_expected_total_value_loc</th>\n      <th>expected_difference</th>\n      <th>expected_total</th>\n      <th>expected_difference_loc</th>\n      <th>expected_total_loc</th>\n    </tr>\n  </thead>\n  <tbody>\n    <tr>\n      <th>0</th>\n      <td>133274</td>\n      <td>02.02.2022 22:45:00</td>\n      <td>1643834700</td>\n      <td>24075</td>\n      <td>Belenenses</td>\n      <td>24083</td>\n      <td>Sporting</td>\n      <td>779.0</td>\n      <td>Portugal</td>\n      <td>785</td>\n      <td>...</td>\n      <td>0.023708</td>\n      <td>-1.20</td>\n      <td>-1.20</td>\n      <td>-1.02</td>\n      <td>4.67</td>\n      <td>4.62</td>\n      <td>-1.2368</td>\n      <td>2.1328</td>\n      <td>-1.6960</td>\n      <td>2.4576</td>\n    </tr>\n    <tr>\n      <th>4</th>\n      <td>136360</td>\n      <td>03.02.2022 10:45:00</td>\n      <td>1643877900</td>\n      <td>24707</td>\n      <td>Newcastle Jets</td>\n      <td>24708</td>\n      <td>Brisbane Roar</td>\n      <td>990.0</td>\n      <td>Australia</td>\n      <td>992</td>\n      <td>...</td>\n      <td>0.017075</td>\n      <td>0.19</td>\n      <td>0.19</td>\n      <td>0.34</td>\n      <td>2.23</td>\n      <td>2.08</td>\n      <td>0.4584</td>\n      <td>1.0044</td>\n      <td>0.5685</td>\n      <td>0.8391</td>\n    </tr>\n    <tr>\n      <th>5</th>\n      <td>135099</td>\n      <td>03.02.2022 17:15:00</td>\n      <td>1643901300</td>\n      <td>23410</td>\n      <td>Atromitos</td>\n      <td>23421</td>\n      <td>Lamia</td>\n      <td>776.0</td>\n      <td>Greece</td>\n      <td>786</td>\n      <td>...</td>\n      <td>-0.087121</td>\n      <td>-0.11</td>\n      <td>-0.11</td>\n      <td>0.51</td>\n      <td>4.19</td>\n      <td>4.62</td>\n      <td>0.0995</td>\n      <td>1.9715</td>\n      <td>0.1297</td>\n      <td>2.3341</td>\n    </tr>\n    <tr>\n      <th>6</th>\n      <td>138998</td>\n      <td>03.02.2022 19:00:00</td>\n      <td>1643907600</td>\n      <td>9719</td>\n      <td>Avellino</td>\n      <td>41740</td>\n      <td>Juve Stabia</td>\n      <td>289.0</td>\n      <td>Italy</td>\n      <td>1677</td>\n      <td>...</td>\n      <td>-0.050000</td>\n      <td>0.16</td>\n      <td>0.16</td>\n      <td>0.09</td>\n      <td>4.36</td>\n      <td>4.47</td>\n      <td>0.7827</td>\n      <td>2.0483</td>\n      <td>0.7036</td>\n      <td>1.9096</td>\n    </tr>\n    <tr>\n      <th>7</th>\n      <td>133151</td>\n      <td>03.02.2022 20:00:00</td>\n      <td>1643911200</td>\n      <td>123969</td>\n      <td>Trofense</td>\n      <td>80180</td>\n      <td>FC Porto B</td>\n      <td>779.0</td>\n      <td>Portugal</td>\n      <td>4622</td>\n      <td>...</td>\n      <td>-0.028986</td>\n      <td>-0.10</td>\n      <td>-0.10</td>\n      <td>0.26</td>\n      <td>4.83</td>\n      <td>4.86</td>\n      <td>-0.0572</td>\n      <td>2.5588</td>\n      <td>0.2667</td>\n      <td>2.6035</td>\n    </tr>\n    <tr>\n      <th>...</th>\n      <td>...</td>\n      <td>...</td>\n      <td>...</td>\n      <td>...</td>\n      <td>...</td>\n      <td>...</td>\n      <td>...</td>\n      <td>...</td>\n      <td>...</td>\n      <td>...</td>\n      <td>...</td>\n      <td>...</td>\n      <td>...</td>\n      <td>...</td>\n      <td>...</td>\n      <td>...</td>\n      <td>...</td>\n      <td>...</td>\n      <td>...</td>\n      <td>...</td>\n      <td>...</td>\n    </tr>\n    <tr>\n      <th>1094</th>\n      <td>135168</td>\n      <td>22.02.2022 21:45:00</td>\n      <td>1645559100</td>\n      <td>36875</td>\n      <td>Swindon</td>\n      <td>26949</td>\n      <td>Walsall</td>\n      <td>291.0</td>\n      <td>England</td>\n      <td>1470</td>\n      <td>...</td>\n      <td>-0.019417</td>\n      <td>0.27</td>\n      <td>0.27</td>\n      <td>0.50</td>\n      <td>4.65</td>\n      <td>4.26</td>\n      <td>0.4192</td>\n      <td>2.2940</td>\n      <td>0.2520</td>\n      <td>1.8640</td>\n    </tr>\n    <tr>\n      <th>1095</th>\n      <td>135170</td>\n      <td>22.02.2022 21:45:00</td>\n      <td>1645559100</td>\n      <td>26951</td>\n      <td>Bradford City</td>\n      <td>92804</td>\n      <td>Harrogate</td>\n      <td>291.0</td>\n      <td>England</td>\n      <td>1470</td>\n      <td>...</td>\n      <td>-0.004950</td>\n      <td>0.07</td>\n      <td>0.07</td>\n      <td>0.49</td>\n      <td>4.88</td>\n      <td>4.77</td>\n      <td>0.4872</td>\n      <td>2.6448</td>\n      <td>0.6070</td>\n      <td>2.5280</td>\n    </tr>\n    <tr>\n      <th>1096</th>\n      <td>136799</td>\n      <td>22.02.2022 21:45:00</td>\n      <td>1645559100</td>\n      <td>26976</td>\n      <td>Rochdale</td>\n      <td>36894</td>\n      <td>Port Vale</td>\n      <td>291.0</td>\n      <td>England</td>\n      <td>1470</td>\n      <td>...</td>\n      <td>0.015385</td>\n      <td>0.21</td>\n      <td>0.21</td>\n      <td>0.47</td>\n      <td>4.21</td>\n      <td>4.77</td>\n      <td>-0.0691</td>\n      <td>1.8709</td>\n      <td>0.1017</td>\n      <td>2.2833</td>\n    </tr>\n    <tr>\n      <th>1097</th>\n      <td>136801</td>\n      <td>22.02.2022 21:45:00</td>\n      <td>1645559100</td>\n      <td>26980</td>\n      <td>Scunthorpe</td>\n      <td>36885</td>\n      <td>Northampton</td>\n      <td>291.0</td>\n      <td>England</td>\n      <td>1470</td>\n      <td>...</td>\n      <td>-0.016807</td>\n      <td>-0.11</td>\n      <td>-0.11</td>\n      <td>0.03</td>\n      <td>4.61</td>\n      <td>4.88</td>\n      <td>-0.5274</td>\n      <td>2.3286</td>\n      <td>-0.6828</td>\n      <td>2.6668</td>\n    </tr>\n    <tr>\n      <th>1098</th>\n      <td>137349</td>\n      <td>22.02.2022 21:45:00</td>\n      <td>1645559100</td>\n      <td>64485</td>\n      <td>Leyton Orient</td>\n      <td>26954</td>\n      <td>Bristol Rovers</td>\n      <td>291.0</td>\n      <td>England</td>\n      <td>1470</td>\n      <td>...</td>\n      <td>0.040609</td>\n      <td>0.43</td>\n      <td>0.43</td>\n      <td>0.62</td>\n      <td>4.77</td>\n      <td>4.94</td>\n      <td>1.0875</td>\n      <td>2.7429</td>\n      <td>1.1175</td>\n      <td>2.8185</td>\n    </tr>\n  </tbody>\n</table>\n<p>324 rows × 1411 columns</p>\n</div>"
     },
     "execution_count": 6,
     "metadata": {},
     "output_type": "execute_result"
    }
   ],
   "source": [
    "games_df"
   ],
   "metadata": {
    "collapsed": false,
    "pycharm": {
     "name": "#%%\n"
    }
   }
  },
  {
   "cell_type": "code",
   "execution_count": 7,
   "outputs": [
    {
     "data": {
      "text/plain": "         id           date_match country_name         team_1_name  \\\n4    136360  03.02.2022 10:45:00    Australia      Newcastle Jets   \n58   136331  05.02.2022 08:05:00    Australia        WS Wanderers   \n77   136011  05.02.2022 15:00:00        Italy             Cosenza   \n82   136270  05.02.2022 15:00:00      Germany         TSV Havelse   \n205  136363  06.02.2022 07:05:00    Australia  Wellington Phoenix   \n\n           team_2_name bet_type  odds_open  odds_close  odds_min       udi  \n4        Brisbane Roar     U2.5      2.060       2.150  1.961905 -0.041860  \n58   Western United FC     U2.5      2.000       2.010  1.904762 -0.004975  \n77             Brescia        2      2.050       1.925  1.952381  0.064935  \n82              Meppen        2      1.943       1.884  1.850476  0.031316  \n205       Macarthur FC     U2.5      2.160       2.040  2.057143  0.058824  ",
      "text/html": "<div>\n<style scoped>\n    .dataframe tbody tr th:only-of-type {\n        vertical-align: middle;\n    }\n\n    .dataframe tbody tr th {\n        vertical-align: top;\n    }\n\n    .dataframe thead th {\n        text-align: right;\n    }\n</style>\n<table border=\"1\" class=\"dataframe\">\n  <thead>\n    <tr style=\"text-align: right;\">\n      <th></th>\n      <th>id</th>\n      <th>date_match</th>\n      <th>country_name</th>\n      <th>team_1_name</th>\n      <th>team_2_name</th>\n      <th>bet_type</th>\n      <th>odds_open</th>\n      <th>odds_close</th>\n      <th>odds_min</th>\n      <th>udi</th>\n    </tr>\n  </thead>\n  <tbody>\n    <tr>\n      <th>4</th>\n      <td>136360</td>\n      <td>03.02.2022 10:45:00</td>\n      <td>Australia</td>\n      <td>Newcastle Jets</td>\n      <td>Brisbane Roar</td>\n      <td>U2.5</td>\n      <td>2.060</td>\n      <td>2.150</td>\n      <td>1.961905</td>\n      <td>-0.041860</td>\n    </tr>\n    <tr>\n      <th>58</th>\n      <td>136331</td>\n      <td>05.02.2022 08:05:00</td>\n      <td>Australia</td>\n      <td>WS Wanderers</td>\n      <td>Western United FC</td>\n      <td>U2.5</td>\n      <td>2.000</td>\n      <td>2.010</td>\n      <td>1.904762</td>\n      <td>-0.004975</td>\n    </tr>\n    <tr>\n      <th>77</th>\n      <td>136011</td>\n      <td>05.02.2022 15:00:00</td>\n      <td>Italy</td>\n      <td>Cosenza</td>\n      <td>Brescia</td>\n      <td>2</td>\n      <td>2.050</td>\n      <td>1.925</td>\n      <td>1.952381</td>\n      <td>0.064935</td>\n    </tr>\n    <tr>\n      <th>82</th>\n      <td>136270</td>\n      <td>05.02.2022 15:00:00</td>\n      <td>Germany</td>\n      <td>TSV Havelse</td>\n      <td>Meppen</td>\n      <td>2</td>\n      <td>1.943</td>\n      <td>1.884</td>\n      <td>1.850476</td>\n      <td>0.031316</td>\n    </tr>\n    <tr>\n      <th>205</th>\n      <td>136363</td>\n      <td>06.02.2022 07:05:00</td>\n      <td>Australia</td>\n      <td>Wellington Phoenix</td>\n      <td>Macarthur FC</td>\n      <td>U2.5</td>\n      <td>2.160</td>\n      <td>2.040</td>\n      <td>2.057143</td>\n      <td>0.058824</td>\n    </tr>\n  </tbody>\n</table>\n</div>"
     },
     "execution_count": 7,
     "metadata": {},
     "output_type": "execute_result"
    }
   ],
   "source": [
    "strategy.filter_games(games_df)"
   ],
   "metadata": {
    "collapsed": false,
    "pycharm": {
     "name": "#%%\n"
    }
   }
  },
  {
   "cell_type": "code",
   "execution_count": 7,
   "outputs": [],
   "source": [],
   "metadata": {
    "collapsed": false,
    "pycharm": {
     "name": "#%%\n"
    }
   }
  }
 ],
 "metadata": {
  "kernelspec": {
   "display_name": "Python 3",
   "language": "python",
   "name": "python3"
  },
  "language_info": {
   "codemirror_mode": {
    "name": "ipython",
    "version": 2
   },
   "file_extension": ".py",
   "mimetype": "text/x-python",
   "name": "python",
   "nbconvert_exporter": "python",
   "pygments_lexer": "ipython2",
   "version": "2.7.6"
  }
 },
 "nbformat": 4,
 "nbformat_minor": 0
}